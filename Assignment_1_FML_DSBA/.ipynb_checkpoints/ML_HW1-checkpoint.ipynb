{
 "cells": [
  {
   "cell_type": "markdown",
   "metadata": {},
   "source": [
    "# Homework 1 Machine Learning\n",
    "\n",
    "**Zheng WAN_B00758336**"
   ]
  },
  {
   "cell_type": "markdown",
   "metadata": {},
   "source": [
    "## Question 1\n",
    "\n",
    "\n",
    "**(a) Stochastic gradient descent performs less computation per update than gradient descent.**  \n",
    "**Answer:** True.  \n",
    "**Justification:** The per-update computational complexity of SGD is $O(d)$, while that of GD is $O(nd)$.\n",
    "\n",
    "---\n",
    "**(b) Both PCA and linear regression can be thought of as algorithms for minimizing a sum of squared errors.**  \n",
    "**Answer:** True.  \n",
    "**Justification:** PCA aims to minimize the squared reconstruction error after projecting data onto lower-dimensional space. Linear regression minimizes the squared difference between observed and predicted values.  \n",
    "\n",
    "---\n",
    "**(c) Let $ A \\in \\mathbb{R}^{m \\times n} $ be the matrix representation of our data. Let's assume that we project our data on the $ k $-dimensional space using Principal Component Analysis, where $ k $ equals the rank of $ A $. Then, no loss is incurred in the reconstruction of the data.**  \n",
    "**Answer:** True.  \n",
    "**Justification:** If $ k $ equals the rank of $ A $, then all the variance in the data is captured by the first $ k $ principal components, and no information is lost during projection.  \n",
    "\n",
    "---\n",
    "**(d) Let $ y_i = \\log(x^1_{i} x^2_{i}) + \\varepsilon_i $ be a model, where $ \\varepsilon_i \\sim \\mathcal{N}(0, \\sigma^2) $ corresponds to Gaussian noise. Then, the maximum likelihood parameters of the model (α) can be learned using linear regression.**  \n",
    "**Answer:** True.  \n",
    "**Justification:** By taking the logarithm of both sides, the equation can be transformed into a linear form suitable for linear regression.  \n",
    "\n",
    "---\n",
    "**(e) The eigenvectors of $ AA^T $ and $ A^T A $ are the same.**  \n",
    "**Answer:** False.  \n",
    "**Justification:** Let $ A \\in \\mathbb{R}^{m \\times n} $, the eigenvectors of $ AA^T $ belong to $ \\mathbb{R}^m $ and those of $ A^T A $ belong to $ \\mathbb{R}^n $. \n",
    "They are not the same.  \n",
    "\n"
   ]
  },
  {
   "cell_type": "markdown",
   "metadata": {},
   "source": [
    "### Question 2\n",
    "\n",
    "\n",
    "**Answer to (a):**\n",
    "$$\\begin{align*}\n",
    "(MM^T)^T &= (M^T)^T M^T \\\\\n",
    "&= MM^T\n",
    "\\end{align*}$$\n",
    "\n",
    "$$\\begin{align*}\n",
    "(M^TM)^T &= (M^T)^T M^T \\\\\n",
    "&= MM^T\n",
    "\\end{align*}$$\n",
    "\n",
    "Both $ MM^T $ and $M^TM$ are symmetric. $MM^T$ is $m \\times m$ (square) and $M^TM$ is $n \\times n$ (square). They are real if matrix $M$ has real entries.\n",
    "\n",
    "---\n",
    "\n",
    "**Answer to (b):**\n",
    "\n",
    "**Eigenvalues:**\n",
    "Let $ v $ be an eigenvector of $ M^T M $ with eigenvalue $ \\lambda $. This means:\n",
    "$ M^T Mv = \\lambda v $\n",
    "\n",
    "Multiplying both sides of the equation by matrix $ M $, we get:\n",
    "$$ M(M^T Mv) = \\lambda Mv $$\n",
    "$$ MM^T(Mv) = \\lambda Mv $$\n",
    "This shows that $ Mv $ is an eigenvector of $ MM^T $ with the same eigenvalue $ \\lambda $.\n",
    "\n",
    "**Eigenvectors:**\n",
    "While the eigenvalues of $ MM^T $ and $ M^T M $ are the same, their eigenvectors are generally not the same, because they belong to different vector spaces. \n",
    "\n",
    "---\n",
    "\n",
    "**Answer to (c):**\n",
    "Using the SVD decomposition $M = U\\Sigma V^T$:\n",
    "\n",
    "$$\\begin{align*}\n",
    "M^TM &= (U\\Sigma V^T)^T U\\Sigma V^T \\\\\n",
    "&= V\\Sigma^T U^T U\\Sigma V^T \\\\\n",
    "&= V\\Sigma^2 V^T\n",
    "\\end{align*}$$\n",
    "\n",
    "Similarily,we conclude:\n",
    "$$MM^T = U\\Sigma^2 U^T$$\n",
    "\n",
    "---\n",
    "\n",
    "**Answer to (d):**\n",
    "The eigenvalues of $M^TM$ are the squared singular values of $M$. This means that if $\\lambda$ is an eigenvalue of $M^TM$, then $\\sqrt{\\lambda}$ will be a singular value of $M$.\n",
    "\n",
    "In other words,The singular values of $ M $ are the square roots of the eigenvalues of $ MM^T $ and $ M^T M $\n",
    "    $$\\lambda_i(M^T M) = \\lambda_i(MM^T) = \\sigma_i^2$$\n",
    "\n"
   ]
  },
  {
   "cell_type": "markdown",
   "metadata": {},
   "source": [
    "## Question 3\n",
    "\n",
    "**(a) Formulate the least squares problem in terms of $ U_k $, $ x $, and $ w $.**\n",
    "\n",
    "The projection is given by $ U_k w $. The reconstruction error between the original data point and its projection is $ x - U_k w $. \n",
    "\n",
    "We want to minimize the square of this error:\n",
    "\n",
    "$$\\min_w \\| x - U_k w \\|^2$$\n",
    "\n",
    "This problem resembles a linear regression problem, where $ U_k $ is like the design matrix, and $ w $ are the regression coefficients.\n",
    "\n",
    "---\n",
    "**(b) Show that the solution of the least squares problem is equal to $ U_k^T x $, which is the projection of $ x $ onto the span of the columns of $ U_k $.**\n",
    "\n",
    "From the previous answer, we have:\n",
    "\n",
    "$$ \\min_w \\| x - U_k w \\|^2 $$\n",
    "\n",
    "To find the value of $ w $ that minimizes this expression, differentiate with respect to $ w $ and set the result to zero:\n",
    "\n",
    "$$ \\frac{d}{dw} \\| x - U_k w \\|^2 = 0 $$\n",
    "$$ \\Rightarrow -2U_k^T(x - U_k w) = 0 $$\n",
    "$$ \\Rightarrow U_k^T x - U_k^T U_k w = 0 $$\n",
    "\n",
    "Given that $ U_k $ consists of orthonormal eigenvectors (from PCA), we have:\n",
    "\n",
    "$$ U_k^T U_k = I $$\n",
    "\n",
    "Where $ I $ is the identity matrix in $ \\mathbb{R}^k $. Substituting this in, we get:\n",
    "\n",
    "$ U_k^T x - w = 0 $\n",
    "$ \\Rightarrow w = U_k^T x $\n",
    "\n",
    "Thus, the solution to the least squares problem $ w $ is  $ U_k^T x $.\n"
   ]
  },
  {
   "cell_type": "markdown",
   "metadata": {},
   "source": [
    "## Question 4\n",
    "\n",
    "**(A)**\n",
    "\n",
    "The regularization term $ \\lambda $ in logistic regression serves as a trade-off between the complexity of the model and the fitting to the training data.With larger dataset,   less regularization needed since the data itself can offer better generalization. On the other hand, with a smaller dataset, the risk of overfitting increases.\n",
    "The first model is on 100 million users and then re-trained  on smaller dataset:We need more regularization with the smaller dataset to avoid overfitting.\n",
    "As a result, the regularization hyperparameter $ \\lambda_2 $  is expected to be greater than $ \\lambda_1 $ .\n",
    "\n",
    "**1.[True]** while **2,3,4 [False]**  $ \\lambda_2 $ is expected to be greater than $ \\lambda_1 $.  \n",
    "**4.5.[False]** As there's no linear relationship implied between the dataset size and regularization strength.\n",
    "\n",
    "---\n",
    "**(B)**\n",
    "\n",
    "1. **Using polynomial features**: Adding polynomial features captures more complexities, typically decreasing training error.\n",
    "   \n",
    "2. **Using Ridge to reduce model complexity**: Ridge might slightly increase training error by adding constraints but can improve generalization.\n",
    "\n",
    "3. **Using Lasso to encourage sparse coefficients**: Lasso can increase training error by forcing coefficients to zero but can prevent overfitting.\n",
    "\n",
    "4. **Normalizing the data points**: Normalization doesn't change data relationships, hence doesn't increase training error.\n",
    "\n",
    "Correct choices: 1 and 4.\n",
    "\n",
    "---\n",
    "**(C)**\n",
    "\n",
    "1. **The variance of the method decreases if $ \\lambda $ increases enough**: Correct. As $ \\lambda $ increases, the model becomes more regularized, leading to lower complexity and thus lower variance.\n",
    "\n",
    "2. **There might be multiple solutions for $ w^* $**: Incorrect. Regularization ensures a unique solution, especially when $ X $ is not full rank.\n",
    "\n",
    "3. **The bias of the method decreases if $ \\lambda $ increases enough**: Incorrect. As $ \\lambda $ increases, the model becomes more biased towards simpler solutions.\n",
    "\n",
    "4. **$ w^* = X^+Y $, where $ X^+ $ is the pseudoinverse of $ X $**: Incorrect. This is the solution without the regularization term. With regularization, the solution changes.\n",
    "\n",
    "**Correct answer is: 1.**\n",
    "\n",
    "---\n"
   ]
  },
  {
   "cell_type": "markdown",
   "metadata": {},
   "source": [
    "### Question 5\n",
    "\n",
    "**(a)**\n",
    "Given the cost function for ridge regression:\n",
    "$$J(\\theta) = ||y - X\\theta||^2_2 + \\lambda||\\theta||^2_2 $$\n",
    "\n",
    "Compute the gradient of $ J(\\theta) $ with respect to $ \\theta $:\n",
    "$$ \\nabla_{\\theta} J(\\theta) = -2X^T(y - X\\theta) + 2\\lambda\\theta $$\n",
    "\n",
    "To find the minimum of $ J(\\theta) $, set the gradient to zero:\n",
    "$$ -2X^T(y - X\\theta) + 2\\lambda\\theta = 0 $$\n",
    "\n",
    "Rearrange terms:\n",
    "$$ X^T(y - X\\theta) = \\lambda\\theta $$\n",
    "$$ X^Ty - X^TX\\theta = \\lambda\\theta $$\n",
    "$$ X^Ty = (X^TX + \\lambda I)\\theta $$\n",
    "\n",
    "Solve for $\\theta $:\n",
    "$$\\theta = (X^T X + \\lambda I)^{-1} X^T y $$\n",
    "\n",
    "Where:\n",
    "- $ X $ is the design matrix.\n",
    "- $ y $ is the vector of target values.\n",
    "- $ \\lambda $ is the regularization parameter.\n",
    "- $ I $ is the identity matrix.\n",
    "\n",
    "---\n",
    "**(b)** \n",
    "Ridge Regression penalizes large coefficients, which in turn constrains the model complexity. When models have too many features or when features are correlated, least-squares can fit noise, leading to overfitting. The regularization in ridge regression shrinks the coefficients and helps in preventing this overfitting.\n",
    "\n"
   ]
  },
  {
   "cell_type": "markdown",
   "metadata": {},
   "source": [
    "## Question 6\n",
    "\n",
    "**(a)** Likelihood function $L(\\theta; X_1, ..., X_n)$:\n",
    "For a single random variable $X_i$,\n",
    "$$ p(X_i) = \\theta^{X_i} (1 - \\theta)^{1-X_i} $$\n",
    "Given that $X_i$ are i.i.d., the likelihood function is:\n",
    "$$ L(\\theta; X_1, ..., X_n) = \\prod_{i=1}^{n} \\theta^{X_i} (1 - \\theta)^{1-X_i} $$\n",
    "\n",
    "---\n",
    "**(b)** Starting with the likelihood function:\n",
    "$$ L(\\theta; X_1, ..., X_n) = \\prod_{i=1}^{n} \\theta^{X_i} (1 - \\theta)^{1-X_i} $$\n",
    "\n",
    " Apply the natural logarithm to both sides:\n",
    "$$ \\ln L(\\theta) = \\ln \\prod_{i=1}^{n} \\theta^{X_i} (1 - \\theta)^{1-X_i} $$\n",
    "\n",
    "Use the logarithm properties. When taking the logarithm of a product, it becomes a sum of the logarithms:\n",
    "$$ \\ln L(\\theta) = \\sum_{i=1}^{n} \\ln [\\theta^{X_i} (1 - \\theta)^{1-X_i}] $$\n",
    "\n",
    "Separate the terms inside the logarithm and utilize properties of logarithms:\n",
    "$$ \\ln L(\\theta) = \\sum_{i=1}^{n} [X_i \\ln \\theta + (1-X_i) \\ln(1 - \\theta)] $$\n",
    "\n",
    "---\n",
    "**(c)**\n",
    "To find the value of $\\theta$ that maximizes the log-likelihood function, we differentiate it and set it to zero:\n",
    "$$ \\frac{d \\ln L(\\theta)}{d \\theta} = \\sum_{i=1}^{n} \\left( \\frac{X_i}{\\theta} - \\frac{1-X_i}{1-\\theta} \\right) = 0 $$\n",
    "\n",
    "Expanding $\\frac{d \\ln L(\\theta)}{d \\theta}$ and rearranging, we get:\n",
    "$$ \\sum_{i=1}^{n} X_i = \\theta \\sum_{i=1}^{n} (1 - X_i) + \\theta \\sum_{i=1}^{n} X_i $$\n",
    "\n",
    "Further simplifying, we find:\n",
    "$$ \\theta = \\frac{1}{n} \\sum_{i=1}^{n} X_i $$\n",
    "\n",
    "This is consistent with the given $\\hat{\\theta} = \\frac{1}{n} \\sum_{i=1}^{n} X_i$, thus completing the proof."
   ]
  },
  {
   "cell_type": "markdown",
   "metadata": {},
   "source": [
    "## Question 7\n",
    "**(a)**\n",
    "For $ p(x_i = 1|y) $, the Maximum Likelihood Estimation (MLE) is given by:\n",
    "$$ \\frac{\\text{Number of times } x_i = 1 \\text{ when } y \\text{ takes a particular value}}{\\text{Total number of times } y \\text{ takes that particular value}} $$\n",
    "\n",
    "\n",
    "|        | $ y = +1 $ | $ y = 0 $ | $ y = -1 $ |\n",
    "|--------|--------------|-------------|--------------|\n",
    "| $ x_1 = 1 $ | 0.5          | 0.5        | 1/3        |\n",
    "| $ x_2 = 1 $ | 1            | 0.5        | 1/3        |\n",
    "| $ x_3 = 1 $ | 0.5          | 1          | 1/3        |\n",
    "| $ x_4 = 1 $ | 0.5          | 1          | 2/3        |\n",
    "\n",
    "---\n",
    "**(b) Compute the MLE**\n",
    "\n",
    "$$ p(y = k) = \\frac{\\text{Number of times } y = k}{\\text{Total number of data points}} $$\n",
    "\n",
    "Using the above formula:\n",
    "- $ p(y = +1) = 2/7 $\n",
    "- $ p(y = 0) = 2/7 $ \n",
    "- $ p(y = -1) = 3/7 $\n",
    "\n",
    "---\n",
    "**(c)**\n",
    "\n",
    "For naive Bayes, the class assigned to a new data point is the one that maximizes the following:\n",
    "\n",
    "$$p(y=k | \\mathbf{x}) \\propto p(y=k) \\prod_{i=1}^{n} p(x_i | y=k) $$\n",
    "\n",
    "Where $n$ is the number of features, and in this case $n = 4$.\n",
    "\n",
    "We have three classes $y = +1, y = 0$, and $y = -1$. We will calculate the above value for each class and see which class gives the maximum value.\n",
    "\n",
    "1. For $y = +1$:\n",
    "\n",
    "$$ p(y=+1 | \\mathbf{x}) \\propto p(y=+1) \\times p(x_1=1 | y=+1) \\times p(x_2=1 | y=+1) \\times p(x_3=1 | y=+1) \\times p(x_4=1 | y=+1) $$\n",
    "\n",
    "$$ p(y=+1 | \\mathbf{x}) \\propto \\frac{2}{7} \\times 0.5 \\times 1 \\times 0.5 \\times 0.5 = \\frac{1}{28} $$\n",
    "\n",
    "2. For $y = 0$:\n",
    "\n",
    "$$ p(y=0 | \\mathbf{x}) \\propto p(y=0) \\times p(x_1=1 | y=0) \\times p(x_2=1 | y=0) \\times p(x_3=1 | y=0) \\times p(x_4=1 | y=0) $$\n",
    "\n",
    "$$ p(y=0 | \\mathbf{x}) \\propto \\frac{2}{7} \\times 0.5 \\times 0.5 \\times 1 \\times 1 = \\frac{1}{14} $$\n",
    "\n",
    "3. For $y = -1$:\n",
    "\n",
    "$$ p(y=-1 | \\mathbf{x}) \\propto p(y=-1) \\times p(x_1=1 | y=-1) \\times p(x_2=1 | y=-1) \\times p(x_3=1 | y=-1) \\times p(x_4=1 | y=-1) $$\n",
    "\n",
    "$$ p(y=-1 | \\mathbf{x}) \\propto \\frac{3}{7} \\times \\frac{1}{3} \\times \\frac{1}{3} \\times \\frac{1}{3} \\times \\frac{2}{3} = \\frac{2}{189} $$\n",
    "\n",
    "\n",
    "**The maximum value is $\\frac{1}{7}$ which corresponds to $y = 0$.**\n",
    "\n",
    "**Thus, the new data point with the given feature values is classified as class $y = 0$.**"
   ]
  },
  {
   "cell_type": "markdown",
   "metadata": {},
   "source": [
    "## Question 8"
   ]
  },
  {
   "cell_type": "code",
   "execution_count": 35,
   "metadata": {},
   "outputs": [],
   "source": [
    "#import necessary libraries\n",
    "\n",
    "import json\n",
    "import numpy as np\n",
    "import pandas as pd\n",
    "import matplotlib.pyplot as plt\n",
    "from sklearn.metrics import mean_squared_error\n",
    "from sklearn.linear_model import LinearRegression\n",
    "from sklearn.model_selection import train_test_split"
   ]
  },
  {
   "cell_type": "code",
   "execution_count": 36,
   "metadata": {},
   "outputs": [],
   "source": [
    "# read JSON\n",
    "path = 'fantasy_100.json'\n",
    "df = pd.read_json(path, lines = True)"
   ]
  },
  {
   "cell_type": "code",
   "execution_count": 37,
   "metadata": {},
   "outputs": [
    {
     "name": "stdout",
     "output_type": "stream",
     "text": [
      "<class 'pandas.core.frame.DataFrame'>\n",
      "RangeIndex: 100 entries, 0 to 99\n",
      "Data columns (total 11 columns):\n",
      " #   Column        Non-Null Count  Dtype \n",
      "---  ------        --------------  ----- \n",
      " 0   user_id       100 non-null    object\n",
      " 1   book_id       100 non-null    int64 \n",
      " 2   review_id     100 non-null    object\n",
      " 3   rating        100 non-null    int64 \n",
      " 4   review_text   100 non-null    object\n",
      " 5   date_added    100 non-null    object\n",
      " 6   date_updated  100 non-null    object\n",
      " 7   read_at       100 non-null    object\n",
      " 8   started_at    100 non-null    object\n",
      " 9   n_votes       100 non-null    int64 \n",
      " 10  n_comments    100 non-null    int64 \n",
      "dtypes: int64(4), object(7)\n",
      "memory usage: 8.7+ KB\n"
     ]
    }
   ],
   "source": [
    "df.info()"
   ]
  },
  {
   "cell_type": "code",
   "execution_count": 38,
   "metadata": {},
   "outputs": [
    {
     "data": {
      "text/plain": [
       "count    100.000000\n",
       "mean       4.090000\n",
       "std        1.137914\n",
       "min        1.000000\n",
       "25%        4.000000\n",
       "50%        4.000000\n",
       "75%        5.000000\n",
       "max        5.000000\n",
       "Name: rating, dtype: float64"
      ]
     },
     "execution_count": 38,
     "metadata": {},
     "output_type": "execute_result"
    }
   ],
   "source": [
    "df['rating'].describe()"
   ]
  },
  {
   "cell_type": "markdown",
   "metadata": {},
   "source": [
    "**(a)**"
   ]
  },
  {
   "cell_type": "code",
   "execution_count": 39,
   "metadata": {},
   "outputs": [
    {
     "data": {
      "image/png": "[encoded data removed]",
      "text/plain": [
       "<Figure size 640x480 with 1 Axes>"
      ]
     },
     "metadata": {},
     "output_type": "display_data"
    }
   ],
   "source": [
    "# (a) plot the distribution of rating\n",
    "plt.hist(df['rating'], bins=10, edgecolor='black')\n",
    "plt.title('Distribution of Ratings')\n",
    "plt.xlabel('Rating')\n",
    "plt.ylabel('Frequency')\n",
    "plt.show()"
   ]
  },
  {
   "cell_type": "markdown",
   "metadata": {},
   "source": [
    "**(b)**"
   ]
  },
  {
   "cell_type": "code",
   "execution_count": 40,
   "metadata": {},
   "outputs": [
    {
     "name": "stdout",
     "output_type": "stream",
     "text": [
      "Theta_0 (Intercept): 3.983948\n",
      "Theta_1 (Slope): 0.000119\n",
      "Mean Squared Error: 1.265752\n"
     ]
    }
   ],
   "source": [
    "#compute the length of each review and save as a new col\n",
    "df['review_length'] = df['review_text'].apply(len)\n",
    "\n",
    "# Define predictor (X) and target (y)\n",
    "X = df[['review_length']]\n",
    "Y = df['rating']\n",
    "\n",
    "#Train the model\n",
    "model_1 = LinearRegression()\n",
    "model_1.fit(X,Y)\n",
    "\n",
    "#Prediction\n",
    "predictions = model_1.predict(X)\n",
    "\n",
    "# Compute the Mean Squared Error (MSE)\n",
    "mse = mean_squared_error(Y, predictions)\n",
    "\n",
    "#compute the parameters\n",
    "theta_0 = model_1.intercept_\n",
    "theta_1 = model_1.coef_[0]\n",
    "\n",
    "print(f\"Theta_0 (Intercept): {round(theta_0,6)}\")\n",
    "print(f\"Theta_1 (Slope): {round(theta_1,6)}\")\n",
    "print(f\"Mean Squared Error: {round(mse,6)}\")"
   ]
  },
  {
   "cell_type": "markdown",
   "metadata": {},
   "source": [
    "**Interpretation: It is obvious that the length of the review has no impact over the rating of a movie**\n",
    "\n",
    "The values are as follows:\n",
    "- $ \\Theta_0 $ (Intercept): 3.983948\n",
    "- $ \\Theta_1 $ (Slope): 0.000119\n",
    "- Mean Squared Error (MSE): 1.265752\n",
    "\n",
    "Interpretation:\n",
    "- $\\Theta_0$ :if a review had a length of 0 (which isn't practically possible for a genuine review), the predicted rating would be approximately 4.\n",
    "  \n",
    "- $ \\Theta_1 $ (Slope) indicates the change in the predicted 'rating' for a unit increase in 'review_length'.This value is very small, suggesting that the length of the review has a minimal effect on the rating.(Almost no impact)\n",
    "  \n",
    "- The MSE is a measure of how well the model's predictions match the actual values. A smaller MSE indicates a better fit of the model to the data. In this context, the MSE provides a quantified measure of the average squared difference between the predicted ratings and the actual ratings.\n",
    "---"
   ]
  },
  {
   "cell_type": "markdown",
   "metadata": {},
   "source": [
    "**(c)**"
   ]
  },
  {
   "cell_type": "code",
   "execution_count": 41,
   "metadata": {},
   "outputs": [
    {
     "name": "stdout",
     "output_type": "stream",
     "text": [
      "Theta_0 (Intercept): 3.954321\n",
      "Theta_1 (Coefficient for review length): 7.2e-05\n",
      "Theta_2 (Coefficient for number of comments): 0.108071\n",
      "Mean Squared Error: 1.265752\n"
     ]
    }
   ],
   "source": [
    "# Define predictor (X1) (X2) and target (Y)\n",
    "#Y = df['rating']\n",
    "X2 = df[['review_length', 'n_comments']]\n",
    "Y2 = df['rating']\n",
    "\n",
    "model_2 = LinearRegression()\n",
    "model_2.fit(X2,Y2)\n",
    "\n",
    "predictions = model_2.predict(X2)\n",
    "\n",
    "mse2 = mean_squared_error(Y2, predictions)\n",
    "\n",
    "theta0 = model_2.intercept_\n",
    "theta1, theta2 = model_2.coef_\n",
    "\n",
    "print(f\"Theta_0 (Intercept): {round(theta0,6)}\")\n",
    "print(f\"Theta_1 (Coefficient for review length): {round(theta1,6)}\")\n",
    "print(f\"Theta_2 (Coefficient for number of comments): {round(theta2,6)}\")\n",
    "print(f\"Mean Squared Error: {round(mse,6)}\")"
   ]
  },
  {
   "cell_type": "markdown",
   "metadata": {},
   "source": [
    "\n",
    "\n",
    "**Observations:**\n",
    "\n",
    "- The change in $ \\Theta_1 $ when introducing the number of comments as an additional predictor is due to the shared variance between review length and the number of comments and the model's attempt to attribute the explained variance in the star rating to each predictor effectively."
   ]
  },
  {
   "cell_type": "markdown",
   "metadata": {},
   "source": [
    "**(c)**"
   ]
  },
  {
   "cell_type": "code",
   "execution_count": 42,
   "metadata": {},
   "outputs": [
    {
     "name": "stdout",
     "output_type": "stream",
     "text": [
      "Mean Squared Error: 1.423\n"
     ]
    }
   ],
   "source": [
    "# Sample data (Replace this with your data)\n",
    "# X - Feature matrix with columns 'review length' and 'number of comments'\n",
    "# y - Target vector (e.g., star rating)\n",
    "X = df[['review_length', 'n_comments']].values\n",
    "y = df['rating'].values\n",
    "\n",
    "# Polynomial feature expansion function\n",
    "def polynomial_expansion(X):\n",
    "    x1 = X[:, 0]  # review length\n",
    "    x2 = X[:, 1]  # number of comments\n",
    "    \n",
    "    # Calculate polynomial features\n",
    "    x1_squared = x1**2\n",
    "    x2_squared = x2**2\n",
    "    interaction = x1 * x2\n",
    "    \n",
    "    # Create new feature matrix\n",
    "    X_poly = np.column_stack((x1, x2, x1_squared, x2_squared, interaction))\n",
    "    \n",
    "    return X_poly\n",
    "\n",
    "# Transform the original features\n",
    "X_poly = polynomial_expansion(X)\n",
    "\n",
    "# Split data into training and testing sets\n",
    "X_train, X_test, y_train, y_test = train_test_split(X_poly, y, test_size=0.2, random_state=42)\n",
    "\n",
    "# Create and train the linear regression model\n",
    "regressor = LinearRegression()\n",
    "regressor.fit(X_train, y_train)\n",
    "\n",
    "# Predictions and MSE\n",
    "y_pred = regressor.predict(X_test)\n",
    "mse = mean_squared_error(y_test, y_pred)\n",
    "\n",
    "print(\"Mean Squared Error:\", round(mse,3))\n"
   ]
  },
  {
   "cell_type": "markdown",
   "metadata": {},
   "source": [
    "**Feature Vector**:\n",
    "1. Intercept term: $ 1 $ (this is to account for the bias term, $ \\Theta_0 $)\n",
    "2. Original `review length`: $ x_1 $\n",
    "3. Original `number of comments`: $ x_2 $\n",
    "4. Square of `review length`: $ x_1^2 $\n",
    "5. Square of `number of comments`: $ x_2^2 $\n",
    "6. Interaction term between `review length` and `number of comments`: $ x_1 \\times x_2 $\n",
    "\n",
    "polynomial feature vector: \n",
    "$$ \\begin{bmatrix} 1 \\\\ x_1 \\\\ x_2 \\\\ x_1^2 \\\\ x_2^2 \\\\ x_1 \\times x_2 \\end{bmatrix} $$\n",
    "\n",
    "This vector now contains the original features, their squares, and the interaction term, leading to a more flexible model that can capture non-linear relationships and interactions between the features.\n",
    "\n",
    "**Mean Squared Error (MSE)**: 1.423\n",
    "\n",
    "This is the average squared difference between the observed outcomes and the model's predictions.\n",
    "\n",
    "**Observations**:\n",
    "1. **Complexity**: Introducing polynomial features increases the complexity of the model. This allows the model to fit more complex, non-linear relationships in the data.\n",
    "2. **Risk of Overfitting**: While polynomial regression can capture non-linear patterns, it also comes with an increased risk of overfitting, especially with high-degree polynomials. \n",
    "3. **Interactions**: The interaction term $ x_1 \\times x_2 $ captures the combined effect of `review length` and `number of comments` on the star rating. For instance, it helps understand scenarios where longer reviews with many comments have a different impact on the star rating than what would be predicted by considering each feature independently."
   ]
  }
 ],
 "metadata": {
  "kernelspec": {
   "display_name": "Python 3 (ipykernel)",
   "language": "python",
   "name": "python3"
  },
  "language_info": {
   "codemirror_mode": {
    "name": "ipython",
    "version": 3
   },
   "file_extension": ".py",
   "mimetype": "text/x-python",
   "name": "python",
   "nbconvert_exporter": "python",
   "pygments_lexer": "ipython3",
   "version": "3.8.5"
  },
  "vscode": {
   "interpreter": {
    "hash": "fd75362e27048f1ead3b65beb4812b1da3d387150557ce53b099093c32022a5e"
   }
  }
 },
 "nbformat": 4,
 "nbformat_minor": 2
}
