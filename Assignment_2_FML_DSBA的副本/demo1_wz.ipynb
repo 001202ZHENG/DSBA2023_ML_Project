{
 "cells": [
  {
   "cell_type": "markdown",
   "metadata": {},
   "source": [
    "### 0.Import libraries"
   ]
  },
  {
   "cell_type": "code",
   "execution_count": 81,
   "metadata": {},
   "outputs": [],
   "source": [
    "import pandas as pd \n",
    "import numpy as np \n",
    "import matplotlib.pyplot as plt\n",
    "from sklearn.preprocessing import OneHotEncoder\n",
    "from sklearn.model_selection import train_test_split\n",
    "from sklearn.neighbors import KNeighborsClassifier\n",
    "import seaborn as sns\n",
    "from sklearn.preprocessing import MinMaxScaler\n",
    "import re\n"
   ]
  },
  {
   "cell_type": "markdown",
   "metadata": {},
   "source": [
    "### 1.Load Dataset"
   ]
  },
  {
   "cell_type": "code",
   "execution_count": 34,
   "metadata": {},
   "outputs": [],
   "source": [
    "df_origin_test= pd.read_csv('data/test_set.csv')\n",
    "df_origin_train = pd.read_csv('data/train_set.csv')\n",
    "\n",
    "df_train = df_origin_train.copy()\n",
    "df_test = df_origin_test.copy()"
   ]
  },
  {
   "cell_type": "markdown",
   "metadata": {},
   "source": [
    "### 2.Data analysis"
   ]
  },
  {
   "cell_type": "code",
   "execution_count": 35,
   "metadata": {},
   "outputs": [
    {
     "data": {
      "text/html": [
       "<div>\n",
       "<style scoped>\n",
       "    .dataframe tbody tr th:only-of-type {\n",
       "        vertical-align: middle;\n",
       "    }\n",
       "\n",
       "    .dataframe tbody tr th {\n",
       "        vertical-align: top;\n",
       "    }\n",
       "\n",
       "    .dataframe thead th {\n",
       "        text-align: right;\n",
       "    }\n",
       "</style>\n",
       "<table border=\"1\" class=\"dataframe\">\n",
       "  <thead>\n",
       "    <tr style=\"text-align: right;\">\n",
       "      <th></th>\n",
       "      <th>ID</th>\n",
       "      <th>Customer_ID</th>\n",
       "      <th>Month</th>\n",
       "      <th>Name</th>\n",
       "      <th>Age</th>\n",
       "      <th>SSN</th>\n",
       "      <th>Occupation</th>\n",
       "      <th>Annual_Income</th>\n",
       "      <th>Monthly_Inhand_Salary</th>\n",
       "      <th>Num_Bank_Accounts</th>\n",
       "      <th>...</th>\n",
       "      <th>Credit_Mix</th>\n",
       "      <th>Outstanding_Debt</th>\n",
       "      <th>Credit_Utilization_Ratio</th>\n",
       "      <th>Credit_History_Age</th>\n",
       "      <th>Payment_of_Min_Amount</th>\n",
       "      <th>Total_EMI_per_month</th>\n",
       "      <th>Amount_invested_monthly</th>\n",
       "      <th>Payment_Behaviour</th>\n",
       "      <th>Monthly_Balance</th>\n",
       "      <th>Credit_Score</th>\n",
       "    </tr>\n",
       "  </thead>\n",
       "  <tbody>\n",
       "    <tr>\n",
       "      <th>0</th>\n",
       "      <td>84094</td>\n",
       "      <td>23943</td>\n",
       "      <td>5</td>\n",
       "      <td>Leonoray</td>\n",
       "      <td>18.0</td>\n",
       "      <td>84355102.0</td>\n",
       "      <td>Journalist</td>\n",
       "      <td>70260.20</td>\n",
       "      <td>5564.016667</td>\n",
       "      <td>9.0</td>\n",
       "      <td>...</td>\n",
       "      <td>Bad</td>\n",
       "      <td>2228.79</td>\n",
       "      <td>25.308445</td>\n",
       "      <td>217.0</td>\n",
       "      <td>Yes</td>\n",
       "      <td>246.378645</td>\n",
       "      <td>99.939577</td>\n",
       "      <td>Low_spent_Small_value_payments</td>\n",
       "      <td>78.800397</td>\n",
       "      <td>Poor</td>\n",
       "    </tr>\n",
       "    <tr>\n",
       "      <th>1</th>\n",
       "      <td>46702</td>\n",
       "      <td>29066</td>\n",
       "      <td>5</td>\n",
       "      <td>Osamua</td>\n",
       "      <td>21.0</td>\n",
       "      <td>981149909.0</td>\n",
       "      <td>Teacher</td>\n",
       "      <td>18001.59</td>\n",
       "      <td>1258.132500</td>\n",
       "      <td>7.0</td>\n",
       "      <td>...</td>\n",
       "      <td>Bad</td>\n",
       "      <td>2225.58</td>\n",
       "      <td>32.088726</td>\n",
       "      <td>240.0</td>\n",
       "      <td>NM</td>\n",
       "      <td>24.986447</td>\n",
       "      <td>45.523998</td>\n",
       "      <td>Low_spent_Small_value_payments</td>\n",
       "      <td>343.581411</td>\n",
       "      <td>Poor</td>\n",
       "    </tr>\n",
       "    <tr>\n",
       "      <th>2</th>\n",
       "      <td>147514</td>\n",
       "      <td>8183</td>\n",
       "      <td>5</td>\n",
       "      <td>Benf</td>\n",
       "      <td>47.0</td>\n",
       "      <td>324295086.0</td>\n",
       "      <td>Developer</td>\n",
       "      <td>9824.31</td>\n",
       "      <td>707.692500</td>\n",
       "      <td>7.0</td>\n",
       "      <td>...</td>\n",
       "      <td>Standard</td>\n",
       "      <td>1233.96</td>\n",
       "      <td>25.500503</td>\n",
       "      <td>227.0</td>\n",
       "      <td>No</td>\n",
       "      <td>0.000000</td>\n",
       "      <td>22.006889</td>\n",
       "      <td>Low_spent_Medium_value_payments</td>\n",
       "      <td>322.170689</td>\n",
       "      <td>Good</td>\n",
       "    </tr>\n",
       "  </tbody>\n",
       "</table>\n",
       "<p>3 rows × 28 columns</p>\n",
       "</div>"
      ],
      "text/plain": [
       "       ID  Customer_ID  Month      Name   Age          SSN  Occupation  \\\n",
       "0   84094        23943      5  Leonoray  18.0   84355102.0  Journalist   \n",
       "1   46702        29066      5    Osamua  21.0  981149909.0     Teacher   \n",
       "2  147514         8183      5      Benf  47.0  324295086.0   Developer   \n",
       "\n",
       "   Annual_Income  Monthly_Inhand_Salary  Num_Bank_Accounts  ...  Credit_Mix  \\\n",
       "0       70260.20            5564.016667                9.0  ...         Bad   \n",
       "1       18001.59            1258.132500                7.0  ...         Bad   \n",
       "2        9824.31             707.692500                7.0  ...    Standard   \n",
       "\n",
       "   Outstanding_Debt  Credit_Utilization_Ratio Credit_History_Age  \\\n",
       "0           2228.79                 25.308445              217.0   \n",
       "1           2225.58                 32.088726              240.0   \n",
       "2           1233.96                 25.500503              227.0   \n",
       "\n",
       "   Payment_of_Min_Amount  Total_EMI_per_month  Amount_invested_monthly  \\\n",
       "0                    Yes           246.378645                99.939577   \n",
       "1                     NM            24.986447                45.523998   \n",
       "2                     No             0.000000                22.006889   \n",
       "\n",
       "                 Payment_Behaviour Monthly_Balance  Credit_Score  \n",
       "0   Low_spent_Small_value_payments       78.800397          Poor  \n",
       "1   Low_spent_Small_value_payments      343.581411          Poor  \n",
       "2  Low_spent_Medium_value_payments      322.170689          Good  \n",
       "\n",
       "[3 rows x 28 columns]"
      ]
     },
     "execution_count": 35,
     "metadata": {},
     "output_type": "execute_result"
    }
   ],
   "source": [
    "df_train.head(3)"
   ]
  },
  {
   "cell_type": "code",
   "execution_count": 36,
   "metadata": {},
   "outputs": [
    {
     "name": "stdout",
     "output_type": "stream",
     "text": [
      "<class 'pandas.core.frame.DataFrame'>\n",
      "RangeIndex: 70000 entries, 0 to 69999\n",
      "Data columns (total 28 columns):\n",
      " #   Column                    Non-Null Count  Dtype  \n",
      "---  ------                    --------------  -----  \n",
      " 0   ID                        70000 non-null  int64  \n",
      " 1   Customer_ID               70000 non-null  int64  \n",
      " 2   Month                     70000 non-null  int64  \n",
      " 3   Name                      70000 non-null  object \n",
      " 4   Age                       70000 non-null  float64\n",
      " 5   SSN                       70000 non-null  float64\n",
      " 6   Occupation                70000 non-null  object \n",
      " 7   Annual_Income             70000 non-null  float64\n",
      " 8   Monthly_Inhand_Salary     70000 non-null  float64\n",
      " 9   Num_Bank_Accounts         70000 non-null  float64\n",
      " 10  Num_Credit_Card           70000 non-null  float64\n",
      " 11  Interest_Rate             70000 non-null  float64\n",
      " 12  Num_of_Loan               70000 non-null  float64\n",
      " 13  Type_of_Loan              70000 non-null  object \n",
      " 14  Delay_from_due_date       70000 non-null  float64\n",
      " 15  Num_of_Delayed_Payment    70000 non-null  float64\n",
      " 16  Changed_Credit_Limit      70000 non-null  float64\n",
      " 17  Num_Credit_Inquiries      70000 non-null  float64\n",
      " 18  Credit_Mix                70000 non-null  object \n",
      " 19  Outstanding_Debt          70000 non-null  float64\n",
      " 20  Credit_Utilization_Ratio  70000 non-null  float64\n",
      " 21  Credit_History_Age        70000 non-null  float64\n",
      " 22  Payment_of_Min_Amount     70000 non-null  object \n",
      " 23  Total_EMI_per_month       70000 non-null  float64\n",
      " 24  Amount_invested_monthly   70000 non-null  float64\n",
      " 25  Payment_Behaviour         70000 non-null  object \n",
      " 26  Monthly_Balance           70000 non-null  float64\n",
      " 27  Credit_Score              70000 non-null  object \n",
      "dtypes: float64(18), int64(3), object(7)\n",
      "memory usage: 15.0+ MB\n"
     ]
    }
   ],
   "source": [
    "df_train.info()"
   ]
  },
  {
   "cell_type": "code",
   "execution_count": 37,
   "metadata": {},
   "outputs": [
    {
     "data": {
      "text/plain": [
       "((70000, 28), (30000, 27))"
      ]
     },
     "execution_count": 37,
     "metadata": {},
     "output_type": "execute_result"
    }
   ],
   "source": [
    "df_train.shape, df_test.shape"
   ]
  },
  {
   "cell_type": "markdown",
   "metadata": {},
   "source": [
    "**Credit Score is the output y**"
   ]
  },
  {
   "cell_type": "code",
   "execution_count": 50,
   "metadata": {},
   "outputs": [
    {
     "data": {
      "text/plain": [
       "0"
      ]
     },
     "execution_count": 50,
     "metadata": {},
     "output_type": "execute_result"
    }
   ],
   "source": [
    "#好干净的数据\n",
    "df_train['Credit_Score'].isna().sum()"
   ]
  },
  {
   "cell_type": "markdown",
   "metadata": {},
   "source": [
    "检查列名的一致性"
   ]
  },
  {
   "cell_type": "code",
   "execution_count": 45,
   "metadata": {},
   "outputs": [],
   "source": [
    "#一致性通过\n",
    "(df_train.columns[:-1]!=df_test.columns).sum()"
   ]
  },
  {
   "cell_type": "code",
   "execution_count": 46,
   "metadata": {},
   "outputs": [
    {
     "data": {
      "text/plain": [
       "(100000, 28)"
      ]
     },
     "execution_count": 46,
     "metadata": {},
     "output_type": "execute_result"
    }
   ],
   "source": [
    "df = pd.concat([df_train, df_test], ignore_index=True)\n",
    "df.shape"
   ]
  },
  {
   "cell_type": "code",
   "execution_count": 47,
   "metadata": {},
   "outputs": [
    {
     "data": {
      "text/plain": [
       "30000"
      ]
     },
     "execution_count": 47,
     "metadata": {},
     "output_type": "execute_result"
    }
   ],
   "source": [
    "df['Credit_Score'].isna().sum()"
   ]
  },
  {
   "cell_type": "code",
   "execution_count": 52,
   "metadata": {},
   "outputs": [
    {
     "data": {
      "text/plain": [
       "ID                              0\n",
       "Customer_ID                     0\n",
       "Month                           0\n",
       "Name                            0\n",
       "Age                             0\n",
       "SSN                             0\n",
       "Occupation                      0\n",
       "Annual_Income                   0\n",
       "Monthly_Inhand_Salary           0\n",
       "Num_Bank_Accounts               0\n",
       "Num_Credit_Card                 0\n",
       "Interest_Rate                   0\n",
       "Num_of_Loan                     0\n",
       "Type_of_Loan                    0\n",
       "Delay_from_due_date             0\n",
       "Num_of_Delayed_Payment          0\n",
       "Changed_Credit_Limit            0\n",
       "Num_Credit_Inquiries            0\n",
       "Credit_Mix                      0\n",
       "Outstanding_Debt                0\n",
       "Credit_Utilization_Ratio        0\n",
       "Credit_History_Age              0\n",
       "Payment_of_Min_Amount           0\n",
       "Total_EMI_per_month             0\n",
       "Amount_invested_monthly         0\n",
       "Payment_Behaviour               0\n",
       "Monthly_Balance                 0\n",
       "Credit_Score                30000\n",
       "dtype: int64"
      ]
     },
     "execution_count": 52,
     "metadata": {},
     "output_type": "execute_result"
    }
   ],
   "source": [
    "#计算合并后的df缺失值的数量（结果符合预期）\n",
    "df.isna().sum()"
   ]
  },
  {
   "cell_type": "markdown",
   "metadata": {},
   "source": [
    "查看 df中每个对象类型列的唯一值分布情况"
   ]
  },
  {
   "cell_type": "code",
   "execution_count": 54,
   "metadata": {},
   "outputs": [
    {
     "name": "stdout",
     "output_type": "stream",
     "text": [
      "Column Name: Name\n",
      "**********************************************************************\n",
      "Name\n",
      "Stevex              36\n",
      "Strupczewskid       34\n",
      "Raymondr            34\n",
      "Vaughanl            33\n",
      "Andreaj             33\n",
      "                    ..\n",
      "Armstrongk           1\n",
      "Flaki                1\n",
      "Niveditak            1\n",
      "Alexe                1\n",
      "Oleg Vukmanovicb     1\n",
      "Name: count, Length: 10127, dtype: int64\n",
      "END ---------------------------------------------------------------------- \n",
      "\n",
      "Column Name: Occupation\n",
      "**********************************************************************\n",
      "Occupation\n",
      "Lawyer           4887\n",
      "Architect        4807\n",
      "Engineer         4790\n",
      "Mechanic         4772\n",
      "Developer        4767\n",
      "Accountant       4742\n",
      "Scientist        4704\n",
      "Media_Manager    4692\n",
      "Teacher          4622\n",
      "Entrepreneur     4618\n",
      "Journalist       4588\n",
      "Doctor           4557\n",
      "Manager          4501\n",
      "Musician         4482\n",
      "Writer           4471\n",
      "Name: count, dtype: int64\n",
      "END ---------------------------------------------------------------------- \n",
      "\n",
      "Column Name: Type_of_Loan\n",
      "**********************************************************************\n",
      "Type_of_Loan\n",
      "No Data                                                                                                                                                7945\n",
      "not specified                                                                                                                                           973\n",
      "debt consolidation loan                                                                                                                                 925\n",
      "personal loan                                                                                                                                           905\n",
      "credit-builder loan                                                                                                                                     903\n",
      "                                                                                                                                                       ... \n",
      "credit-builder loan,auto loan,credit-builder loan,not specified,auto loan,credit-builder loan,debt consolidation loan                                     1\n",
      "debt consolidation loan,credit-builder loan,debt consolidation loan,debt consolidation loan,payday loan,payday loan,credit-builder loan,payday loan       1\n",
      "auto loan,home equity loan,student loan,student loan,personal loan,student loan                                                                           1\n",
      "student loan,not specified,home equity loan,auto loan                                                                                                     1\n",
      "auto loan,home equity loan,payday loan,mortgage loan,student loan,student loan                                                                            1\n",
      "Name: count, Length: 6261, dtype: int64\n",
      "END ---------------------------------------------------------------------- \n",
      "\n",
      "Column Name: Credit_Mix\n",
      "**********************************************************************\n",
      "Credit_Mix\n",
      "Standard    32091\n",
      "Good        21260\n",
      "Bad         16649\n",
      "Name: count, dtype: int64\n",
      "END ---------------------------------------------------------------------- \n",
      "\n",
      "Column Name: Payment_of_Min_Amount\n",
      "**********************************************************************\n",
      "Payment_of_Min_Amount\n",
      "Yes    36688\n",
      "No     24910\n",
      "NM      8402\n",
      "Name: count, dtype: int64\n",
      "END ---------------------------------------------------------------------- \n",
      "\n",
      "Column Name: Payment_Behaviour\n",
      "**********************************************************************\n",
      "Payment_Behaviour\n",
      "Low_spent_Small_value_payments      20075\n",
      "High_spent_Medium_value_payments    13199\n",
      "High_spent_Large_value_payments     10324\n",
      "Low_spent_Medium_value_payments     10224\n",
      "High_spent_Small_value_payments      8473\n",
      "Low_spent_Large_value_payments       7705\n",
      "Name: count, dtype: int64\n",
      "END ---------------------------------------------------------------------- \n",
      "\n",
      "Column Name: Credit_Score\n",
      "**********************************************************************\n",
      "Credit_Score\n",
      "Standard    37080\n",
      "Poor        20399\n",
      "Good        12521\n",
      "Name: count, dtype: int64\n",
      "END ---------------------------------------------------------------------- \n",
      "\n"
     ]
    }
   ],
   "source": [
    "for col in object_col:\n",
    "    print('Column Name: '+col)\n",
    "    print(\"**\"*35)\n",
    "    print(df_train[col].value_counts(dropna=False))\n",
    "    print('END', \"--\"*35, '\\n')"
   ]
  },
  {
   "cell_type": "markdown",
   "metadata": {},
   "source": [
    "### 3.Data Preprocessing"
   ]
  },
  {
   "cell_type": "code",
   "execution_count": 106,
   "metadata": {},
   "outputs": [
    {
     "data": {
      "text/plain": [
       "Index(['Occupation', 'Type_of_Loan', 'Credit_Mix', 'Payment_of_Min_Amount',\n",
       "       'Payment_Behaviour'],\n",
       "      dtype='object')"
      ]
     },
     "execution_count": 106,
     "metadata": {},
     "output_type": "execute_result"
    }
   ],
   "source": [
    "#非数值列名\n",
    "object_col = df.describe(include='O').columns\n",
    "object_col"
   ]
  },
  {
   "cell_type": "code",
   "execution_count": null,
   "metadata": {},
   "outputs": [],
   "source": [
    "del df['ID'] # Identification \n",
    "del df['Name'] # Name of client \n",
    "del df['SSN'] # SSN (social security number of a person)"
   ]
  },
  {
   "cell_type": "markdown",
   "metadata": {},
   "source": [
    "Type of loans"
   ]
  },
  {
   "cell_type": "code",
   "execution_count": 84,
   "metadata": {},
   "outputs": [
    {
     "data": {
      "text/plain": [
       "Type_of_Loan\n",
       "no data                                11408\n",
       "not specified                           1408\n",
       "credit-builder loan                     1280\n",
       "personal loan                           1272\n",
       "debt consolidation loan                 1264\n",
       "student loan                            1240\n",
       "payday loan                             1200\n",
       "mortgage loan                           1176\n",
       "auto loan                               1152\n",
       "home equity loan                        1136\n",
       "personal loan,student loan               320\n",
       "not specified,payday loan                272\n",
       "mortgage loan,home equity loan           264\n",
       "student loan,payday loan                 256\n",
       "credit-builder loan,not specified        248\n",
       "student loan,credit-builder loan         248\n",
       "payday loan,auto loan                    240\n",
       "payday loan,debt consolidation loan      240\n",
       "payday loan,personal loan                232\n",
       "auto loan,personal loan                  232\n",
       "Name: count, dtype: int64"
      ]
     },
     "execution_count": 84,
     "metadata": {},
     "output_type": "execute_result"
    }
   ],
   "source": [
    "df['Type_of_Loan'].value_counts(dropna=False).head(20)"
   ]
  },
  {
   "cell_type": "code",
   "execution_count": 85,
   "metadata": {},
   "outputs": [],
   "source": [
    "#数据清洗，使得贷款类型的格式标准化。这个函数将字符串转换为小写，去除 \"and \" 字符串和逗号后的空格，并删除字符串两端的空格\n",
    "df['Type_of_Loan'] = df['Type_of_Loan'].apply(lambda x: x.lower().replace('and ', '').replace(', ', ',').strip() if pd.notna(x) else x)"
   ]
  },
  {
   "cell_type": "code",
   "execution_count": null,
   "metadata": {},
   "outputs": [],
   "source": [
    "df.groupby('Customer_ID')['Type_of_Loan'].value_counts(dropna=False)"
   ]
  },
  {
   "cell_type": "code",
   "execution_count": null,
   "metadata": {},
   "outputs": [],
   "source": [
    "df.groupby('Customer_ID')['Type_of_Loan'].apply(list)"
   ]
  },
  {
   "cell_type": "code",
   "execution_count": 88,
   "metadata": {},
   "outputs": [
    {
     "data": {
      "text/plain": [
       "{0: 'auto loan',\n",
       " 1: 'credit-builder loan',\n",
       " 2: 'debt consolidation loan',\n",
       " 3: 'home equity loan',\n",
       " 4: 'mortgage loan',\n",
       " 5: 'no data',\n",
       " 6: 'not specified',\n",
       " 7: 'payday loan',\n",
       " 8: 'personal loan',\n",
       " 9: 'student loan'}"
      ]
     },
     "execution_count": 88,
     "metadata": {},
     "output_type": "execute_result"
    }
   ],
   "source": [
    "#获取 Type_of_Loan 列中所有不同的贷款类型，并且为每个不同的贷款类型赋予一个唯一的整数标识。\n",
    "def get_Diff_Values_Colum(df_column, diff_value=[], sep=',', replace=''):   \n",
    "    column = df_column.dropna()\n",
    "    for i in column:\n",
    "        if sep not in i and i not in diff_value:\n",
    "            diff_value.append(i)\n",
    "        else:\n",
    "            for data in map(lambda x:x.strip(), re.sub(replace, '', i).split(sep)):\n",
    "                if not data in diff_value:\n",
    "                    diff_value.append(data)\n",
    "    return dict(enumerate(sorted(diff_value)))\n",
    "\n",
    "get_Diff_Values_Colum(df['Type_of_Loan'])"
   ]
  },
  {
   "cell_type": "markdown",
   "metadata": {},
   "source": [
    "Occupation"
   ]
  },
  {
   "cell_type": "code",
   "execution_count": 95,
   "metadata": {},
   "outputs": [
    {
     "data": {
      "text/plain": [
       "Occupation\n",
       "Lawyer           7096\n",
       "Engineer         6864\n",
       "Architect        6824\n",
       "Mechanic         6776\n",
       "Scientist        6744\n",
       "Accountant       6744\n",
       "Developer        6720\n",
       "Media_Manager    6720\n",
       "Teacher          6672\n",
       "Entrepreneur     6648\n",
       "Doctor           6568\n",
       "Journalist       6536\n",
       "Manager          6432\n",
       "Musician         6352\n",
       "Writer           6304\n",
       "Name: count, dtype: int64"
      ]
     },
     "execution_count": 95,
     "metadata": {},
     "output_type": "execute_result"
    }
   ],
   "source": [
    "df['Occupation'].value_counts()"
   ]
  },
  {
   "cell_type": "code",
   "execution_count": 96,
   "metadata": {},
   "outputs": [
    {
     "data": {
      "text/plain": [
       "Credit_Mix\n",
       "Standard    45848\n",
       "Good        30384\n",
       "Bad         23768\n",
       "Name: count, dtype: int64"
      ]
     },
     "execution_count": 96,
     "metadata": {},
     "output_type": "execute_result"
    }
   ],
   "source": [
    "df['Credit_Mix'].value_counts()"
   ]
  },
  {
   "cell_type": "code",
   "execution_count": null,
   "metadata": {},
   "outputs": [],
   "source": [
    "df.select_dtypes(include=\"object\")\n",
    "#[ 'Occupation', 'Type_of_Loan', 'Credit_Mix',\n",
    "#'Payment_of_Min_Amount', 'Payment_Behaviour', 'Credit_Score～']"
   ]
  },
  {
   "cell_type": "code",
   "execution_count": 98,
   "metadata": {},
   "outputs": [
    {
     "data": {
      "text/plain": [
       "Credit_Score\n",
       "Standard    37080\n",
       "Poor        20399\n",
       "Good        12521\n",
       "Name: count, dtype: int64"
      ]
     },
     "execution_count": 98,
     "metadata": {},
     "output_type": "execute_result"
    }
   ],
   "source": [
    "df['Credit_Score'].value_counts()"
   ]
  },
  {
   "cell_type": "code",
   "execution_count": 99,
   "metadata": {},
   "outputs": [],
   "source": [
    "m = {\"Poor\":0, \"Standard\":1, \"Good\":2}\n",
    "\n",
    "df['Credit_Score'] = df['Credit_Score'].map(m)"
   ]
  },
  {
   "cell_type": "code",
   "execution_count": 102,
   "metadata": {},
   "outputs": [],
   "source": [
    "y = df['Credit_Score']\n",
    "X = df.drop(columns=['Credit_Score'], axis=1)"
   ]
  },
  {
   "cell_type": "code",
   "execution_count": 103,
   "metadata": {},
   "outputs": [
    {
     "data": {
      "text/plain": [
       "['Occupation',\n",
       " 'Type_of_Loan',\n",
       " 'Credit_Mix',\n",
       " 'Payment_of_Min_Amount',\n",
       " 'Payment_Behaviour']"
      ]
     },
     "execution_count": 103,
     "metadata": {},
     "output_type": "execute_result"
    }
   ],
   "source": [
    "categorical_cols = [col for col in X.columns if X[col].dtype == 'object']\n",
    "categorical_cols"
   ]
  },
  {
   "cell_type": "code",
   "execution_count": 104,
   "metadata": {},
   "outputs": [
    {
     "data": {
      "text/plain": [
       "['Credit_Mix', 'Payment_of_Min_Amount']"
      ]
     },
     "execution_count": 104,
     "metadata": {},
     "output_type": "execute_result"
    }
   ],
   "source": [
    "low_cardinality_categorical_cols = [col for col in X.columns if \n",
    "                                    (X[col].dtype == 'object') & \n",
    "                                    (X[col].nunique()<4)]\n",
    "low_cardinality_categorical_cols"
   ]
  },
  {
   "cell_type": "code",
   "execution_count": 105,
   "metadata": {},
   "outputs": [
    {
     "data": {
      "text/plain": [
       "['Occupation', 'Type_of_Loan', 'Payment_Behaviour']"
      ]
     },
     "execution_count": 105,
     "metadata": {},
     "output_type": "execute_result"
    }
   ],
   "source": [
    "high_cardinality_categorical_cols = [col for col in X.columns if \n",
    "                                    (X[col].dtype == 'object') & \n",
    "                                    (X[col].nunique()>3)]\n",
    "\n",
    "high_cardinality_categorical_cols"
   ]
  }
 ],
 "metadata": {
  "kernelspec": {
   "display_name": "Python 3.8.5 ('base')",
   "language": "python",
   "name": "python3"
  },
  "language_info": {
   "codemirror_mode": {
    "name": "ipython",
    "version": 3
   },
   "file_extension": ".py",
   "mimetype": "text/x-python",
   "name": "python",
   "nbconvert_exporter": "python",
   "pygments_lexer": "ipython3",
   "version": "3.8.5"
  },
  "orig_nbformat": 4,
  "vscode": {
   "interpreter": {
    "hash": "fd75362e27048f1ead3b65beb4812b1da3d387150557ce53b099093c32022a5e"
   }
  }
 },
 "nbformat": 4,
 "nbformat_minor": 2
}
