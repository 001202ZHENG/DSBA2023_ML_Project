{
 "cells": [
  {
   "cell_type": "markdown",
   "metadata": {},
   "source": [
    "# Credit Score Classification : Basic Example Notebook\n",
    "\n",
    "This is an example notebook for the FML Kaggle Challenge. Here are some basic steps to preprocess, train et generate predictions.\n",
    "### Caution: Some of the steps here are just explanatories, you will still need to change and add steps to perform well in the challenge "
   ]
  },
  {
   "cell_type": "code",
   "execution_count": 5,
   "metadata": {},
   "outputs": [],
   "source": [
    "import numpy as np\n",
    "import pandas as pd"
   ]
  },
  {
   "cell_type": "markdown",
   "metadata": {},
   "source": [
    "## Reading the Dataset"
   ]
  },
  {
   "cell_type": "code",
   "execution_count": 6,
   "metadata": {},
   "outputs": [],
   "source": [
    "train_data = pd.read_csv('data/train_set.csv', index_col=0) #把ID作为索引\n",
    "test_data = pd.read_csv('data/test_set.csv', index_col=0)"
   ]
  },
  {
   "cell_type": "code",
   "execution_count": 21,
   "metadata": {},
   "outputs": [
    {
     "data": {
      "text/html": [
       "<div>\n",
       "<style scoped>\n",
       "    .dataframe tbody tr th:only-of-type {\n",
       "        vertical-align: middle;\n",
       "    }\n",
       "\n",
       "    .dataframe tbody tr th {\n",
       "        vertical-align: top;\n",
       "    }\n",
       "\n",
       "    .dataframe thead th {\n",
       "        text-align: right;\n",
       "    }\n",
       "</style>\n",
       "<table border=\"1\" class=\"dataframe\">\n",
       "  <thead>\n",
       "    <tr style=\"text-align: right;\">\n",
       "      <th></th>\n",
       "      <th>Customer_ID</th>\n",
       "      <th>Month</th>\n",
       "      <th>Name</th>\n",
       "      <th>Age</th>\n",
       "      <th>SSN</th>\n",
       "      <th>Occupation</th>\n",
       "      <th>Annual_Income</th>\n",
       "      <th>Monthly_Inhand_Salary</th>\n",
       "      <th>Num_Bank_Accounts</th>\n",
       "      <th>Num_Credit_Card</th>\n",
       "      <th>...</th>\n",
       "      <th>Credit_Mix</th>\n",
       "      <th>Outstanding_Debt</th>\n",
       "      <th>Credit_Utilization_Ratio</th>\n",
       "      <th>Credit_History_Age</th>\n",
       "      <th>Payment_of_Min_Amount</th>\n",
       "      <th>Total_EMI_per_month</th>\n",
       "      <th>Amount_invested_monthly</th>\n",
       "      <th>Payment_Behaviour</th>\n",
       "      <th>Monthly_Balance</th>\n",
       "      <th>Credit_Score</th>\n",
       "    </tr>\n",
       "    <tr>\n",
       "      <th>ID</th>\n",
       "      <th></th>\n",
       "      <th></th>\n",
       "      <th></th>\n",
       "      <th></th>\n",
       "      <th></th>\n",
       "      <th></th>\n",
       "      <th></th>\n",
       "      <th></th>\n",
       "      <th></th>\n",
       "      <th></th>\n",
       "      <th></th>\n",
       "      <th></th>\n",
       "      <th></th>\n",
       "      <th></th>\n",
       "      <th></th>\n",
       "      <th></th>\n",
       "      <th></th>\n",
       "      <th></th>\n",
       "      <th></th>\n",
       "      <th></th>\n",
       "      <th></th>\n",
       "    </tr>\n",
       "  </thead>\n",
       "  <tbody>\n",
       "    <tr>\n",
       "      <th>84094</th>\n",
       "      <td>23943</td>\n",
       "      <td>5</td>\n",
       "      <td>Leonoray</td>\n",
       "      <td>18.0</td>\n",
       "      <td>84355102.0</td>\n",
       "      <td>Journalist</td>\n",
       "      <td>70260.200</td>\n",
       "      <td>5564.016667</td>\n",
       "      <td>9.0</td>\n",
       "      <td>7.0</td>\n",
       "      <td>...</td>\n",
       "      <td>Bad</td>\n",
       "      <td>2228.79</td>\n",
       "      <td>25.308445</td>\n",
       "      <td>217.0</td>\n",
       "      <td>Yes</td>\n",
       "      <td>246.378645</td>\n",
       "      <td>99.939577</td>\n",
       "      <td>Low_spent_Small_value_payments</td>\n",
       "      <td>78.800397</td>\n",
       "      <td>Poor</td>\n",
       "    </tr>\n",
       "    <tr>\n",
       "      <th>46702</th>\n",
       "      <td>29066</td>\n",
       "      <td>5</td>\n",
       "      <td>Osamua</td>\n",
       "      <td>21.0</td>\n",
       "      <td>981149909.0</td>\n",
       "      <td>Teacher</td>\n",
       "      <td>18001.590</td>\n",
       "      <td>1258.132500</td>\n",
       "      <td>7.0</td>\n",
       "      <td>9.0</td>\n",
       "      <td>...</td>\n",
       "      <td>Bad</td>\n",
       "      <td>2225.58</td>\n",
       "      <td>32.088726</td>\n",
       "      <td>240.0</td>\n",
       "      <td>NM</td>\n",
       "      <td>24.986447</td>\n",
       "      <td>45.523998</td>\n",
       "      <td>Low_spent_Small_value_payments</td>\n",
       "      <td>343.581411</td>\n",
       "      <td>Poor</td>\n",
       "    </tr>\n",
       "    <tr>\n",
       "      <th>147514</th>\n",
       "      <td>8183</td>\n",
       "      <td>5</td>\n",
       "      <td>Benf</td>\n",
       "      <td>47.0</td>\n",
       "      <td>324295086.0</td>\n",
       "      <td>Developer</td>\n",
       "      <td>9824.310</td>\n",
       "      <td>707.692500</td>\n",
       "      <td>7.0</td>\n",
       "      <td>4.0</td>\n",
       "      <td>...</td>\n",
       "      <td>Standard</td>\n",
       "      <td>1233.96</td>\n",
       "      <td>25.500503</td>\n",
       "      <td>227.0</td>\n",
       "      <td>No</td>\n",
       "      <td>0.000000</td>\n",
       "      <td>22.006889</td>\n",
       "      <td>Low_spent_Medium_value_payments</td>\n",
       "      <td>322.170689</td>\n",
       "      <td>Good</td>\n",
       "    </tr>\n",
       "    <tr>\n",
       "      <th>16675</th>\n",
       "      <td>27938</td>\n",
       "      <td>2</td>\n",
       "      <td>Matt Falloonm</td>\n",
       "      <td>41.0</td>\n",
       "      <td>564682345.0</td>\n",
       "      <td>Entrepreneur</td>\n",
       "      <td>87481.620</td>\n",
       "      <td>7022.135000</td>\n",
       "      <td>0.0</td>\n",
       "      <td>4.0</td>\n",
       "      <td>...</td>\n",
       "      <td>Good</td>\n",
       "      <td>214.43</td>\n",
       "      <td>38.505066</td>\n",
       "      <td>282.0</td>\n",
       "      <td>No</td>\n",
       "      <td>55.653369</td>\n",
       "      <td>56.550721</td>\n",
       "      <td>High_spent_Medium_value_payments</td>\n",
       "      <td>726.849284</td>\n",
       "      <td>Standard</td>\n",
       "    </tr>\n",
       "    <tr>\n",
       "      <th>84080</th>\n",
       "      <td>38740</td>\n",
       "      <td>3</td>\n",
       "      <td>Seetharamank</td>\n",
       "      <td>53.0</td>\n",
       "      <td>228116416.0</td>\n",
       "      <td>Manager</td>\n",
       "      <td>129204.920</td>\n",
       "      <td>10508.076667</td>\n",
       "      <td>5.0</td>\n",
       "      <td>6.0</td>\n",
       "      <td>...</td>\n",
       "      <td>Standard</td>\n",
       "      <td>1075.37</td>\n",
       "      <td>38.359175</td>\n",
       "      <td>289.0</td>\n",
       "      <td>Yes</td>\n",
       "      <td>277.610885</td>\n",
       "      <td>165.019535</td>\n",
       "      <td>High_spent_Large_value_payments</td>\n",
       "      <td>742.018547</td>\n",
       "      <td>Standard</td>\n",
       "    </tr>\n",
       "    <tr>\n",
       "      <th>...</th>\n",
       "      <td>...</td>\n",
       "      <td>...</td>\n",
       "      <td>...</td>\n",
       "      <td>...</td>\n",
       "      <td>...</td>\n",
       "      <td>...</td>\n",
       "      <td>...</td>\n",
       "      <td>...</td>\n",
       "      <td>...</td>\n",
       "      <td>...</td>\n",
       "      <td>...</td>\n",
       "      <td>...</td>\n",
       "      <td>...</td>\n",
       "      <td>...</td>\n",
       "      <td>...</td>\n",
       "      <td>...</td>\n",
       "      <td>...</td>\n",
       "      <td>...</td>\n",
       "      <td>...</td>\n",
       "      <td>...</td>\n",
       "      <td>...</td>\n",
       "    </tr>\n",
       "    <tr>\n",
       "      <th>100440</th>\n",
       "      <td>34564</td>\n",
       "      <td>7</td>\n",
       "      <td>Daniel Basesv</td>\n",
       "      <td>31.0</td>\n",
       "      <td>497367729.0</td>\n",
       "      <td>Mechanic</td>\n",
       "      <td>76726.640</td>\n",
       "      <td>6098.886667</td>\n",
       "      <td>6.0</td>\n",
       "      <td>6.0</td>\n",
       "      <td>...</td>\n",
       "      <td>Standard</td>\n",
       "      <td>103.86</td>\n",
       "      <td>22.988139</td>\n",
       "      <td>353.0</td>\n",
       "      <td>No</td>\n",
       "      <td>145.229101</td>\n",
       "      <td>56.871503</td>\n",
       "      <td>High_spent_Medium_value_payments</td>\n",
       "      <td>490.055738</td>\n",
       "      <td>Standard</td>\n",
       "    </tr>\n",
       "    <tr>\n",
       "      <th>97738</th>\n",
       "      <td>11931</td>\n",
       "      <td>5</td>\n",
       "      <td>Palmery</td>\n",
       "      <td>15.0</td>\n",
       "      <td>68740168.0</td>\n",
       "      <td>Engineer</td>\n",
       "      <td>29735.220</td>\n",
       "      <td>2208.935000</td>\n",
       "      <td>10.0</td>\n",
       "      <td>8.0</td>\n",
       "      <td>...</td>\n",
       "      <td>Bad</td>\n",
       "      <td>1750.14</td>\n",
       "      <td>34.177601</td>\n",
       "      <td>234.0</td>\n",
       "      <td>Yes</td>\n",
       "      <td>64.477076</td>\n",
       "      <td>52.468341</td>\n",
       "      <td>Low_spent_Small_value_payments</td>\n",
       "      <td>265.301240</td>\n",
       "      <td>Poor</td>\n",
       "    </tr>\n",
       "    <tr>\n",
       "      <th>32228</th>\n",
       "      <td>14790</td>\n",
       "      <td>3</td>\n",
       "      <td>Johnsonj</td>\n",
       "      <td>37.0</td>\n",
       "      <td>959945192.0</td>\n",
       "      <td>Engineer</td>\n",
       "      <td>16833.355</td>\n",
       "      <td>1395.779583</td>\n",
       "      <td>7.0</td>\n",
       "      <td>3.0</td>\n",
       "      <td>...</td>\n",
       "      <td>Standard</td>\n",
       "      <td>65.59</td>\n",
       "      <td>31.230439</td>\n",
       "      <td>127.0</td>\n",
       "      <td>Yes</td>\n",
       "      <td>19.785558</td>\n",
       "      <td>14.823454</td>\n",
       "      <td>Low_spent_Small_value_payments</td>\n",
       "      <td>295.742037</td>\n",
       "      <td>Standard</td>\n",
       "    </tr>\n",
       "    <tr>\n",
       "      <th>47676</th>\n",
       "      <td>10962</td>\n",
       "      <td>7</td>\n",
       "      <td>Erin Smithu</td>\n",
       "      <td>32.0</td>\n",
       "      <td>193636325.0</td>\n",
       "      <td>Journalist</td>\n",
       "      <td>34947.630</td>\n",
       "      <td>3022.302500</td>\n",
       "      <td>3.0</td>\n",
       "      <td>7.0</td>\n",
       "      <td>...</td>\n",
       "      <td>Standard</td>\n",
       "      <td>936.29</td>\n",
       "      <td>23.539433</td>\n",
       "      <td>201.0</td>\n",
       "      <td>No</td>\n",
       "      <td>77.862907</td>\n",
       "      <td>108.987267</td>\n",
       "      <td>Low_spent_Small_value_payments</td>\n",
       "      <td>251.420052</td>\n",
       "      <td>Standard</td>\n",
       "    </tr>\n",
       "    <tr>\n",
       "      <th>29219</th>\n",
       "      <td>47422</td>\n",
       "      <td>6</td>\n",
       "      <td>Jorge Otaolat</td>\n",
       "      <td>37.0</td>\n",
       "      <td>977085980.0</td>\n",
       "      <td>Scientist</td>\n",
       "      <td>63259.800</td>\n",
       "      <td>5538.650000</td>\n",
       "      <td>4.0</td>\n",
       "      <td>4.0</td>\n",
       "      <td>...</td>\n",
       "      <td>Standard</td>\n",
       "      <td>2572.30</td>\n",
       "      <td>27.949603</td>\n",
       "      <td>214.0</td>\n",
       "      <td>Yes</td>\n",
       "      <td>263.077208</td>\n",
       "      <td>124.727807</td>\n",
       "      <td>High_spent_Medium_value_payments</td>\n",
       "      <td>469.893993</td>\n",
       "      <td>Poor</td>\n",
       "    </tr>\n",
       "  </tbody>\n",
       "</table>\n",
       "<p>70000 rows × 27 columns</p>\n",
       "</div>"
      ],
      "text/plain": [
       "        Customer_ID  Month           Name   Age          SSN    Occupation  \\\n",
       "ID                                                                           \n",
       "84094         23943      5       Leonoray  18.0   84355102.0    Journalist   \n",
       "46702         29066      5         Osamua  21.0  981149909.0       Teacher   \n",
       "147514         8183      5           Benf  47.0  324295086.0     Developer   \n",
       "16675         27938      2  Matt Falloonm  41.0  564682345.0  Entrepreneur   \n",
       "84080         38740      3   Seetharamank  53.0  228116416.0       Manager   \n",
       "...             ...    ...            ...   ...          ...           ...   \n",
       "100440        34564      7  Daniel Basesv  31.0  497367729.0      Mechanic   \n",
       "97738         11931      5        Palmery  15.0   68740168.0      Engineer   \n",
       "32228         14790      3       Johnsonj  37.0  959945192.0      Engineer   \n",
       "47676         10962      7    Erin Smithu  32.0  193636325.0    Journalist   \n",
       "29219         47422      6  Jorge Otaolat  37.0  977085980.0     Scientist   \n",
       "\n",
       "        Annual_Income  Monthly_Inhand_Salary  Num_Bank_Accounts  \\\n",
       "ID                                                                \n",
       "84094       70260.200            5564.016667                9.0   \n",
       "46702       18001.590            1258.132500                7.0   \n",
       "147514       9824.310             707.692500                7.0   \n",
       "16675       87481.620            7022.135000                0.0   \n",
       "84080      129204.920           10508.076667                5.0   \n",
       "...               ...                    ...                ...   \n",
       "100440      76726.640            6098.886667                6.0   \n",
       "97738       29735.220            2208.935000               10.0   \n",
       "32228       16833.355            1395.779583                7.0   \n",
       "47676       34947.630            3022.302500                3.0   \n",
       "29219       63259.800            5538.650000                4.0   \n",
       "\n",
       "        Num_Credit_Card  ...  Credit_Mix  Outstanding_Debt  \\\n",
       "ID                       ...                                 \n",
       "84094               7.0  ...         Bad           2228.79   \n",
       "46702               9.0  ...         Bad           2225.58   \n",
       "147514              4.0  ...    Standard           1233.96   \n",
       "16675               4.0  ...        Good            214.43   \n",
       "84080               6.0  ...    Standard           1075.37   \n",
       "...                 ...  ...         ...               ...   \n",
       "100440              6.0  ...    Standard            103.86   \n",
       "97738               8.0  ...         Bad           1750.14   \n",
       "32228               3.0  ...    Standard             65.59   \n",
       "47676               7.0  ...    Standard            936.29   \n",
       "29219               4.0  ...    Standard           2572.30   \n",
       "\n",
       "       Credit_Utilization_Ratio  Credit_History_Age  Payment_of_Min_Amount  \\\n",
       "ID                                                                           \n",
       "84094                 25.308445               217.0                    Yes   \n",
       "46702                 32.088726               240.0                     NM   \n",
       "147514                25.500503               227.0                     No   \n",
       "16675                 38.505066               282.0                     No   \n",
       "84080                 38.359175               289.0                    Yes   \n",
       "...                         ...                 ...                    ...   \n",
       "100440                22.988139               353.0                     No   \n",
       "97738                 34.177601               234.0                    Yes   \n",
       "32228                 31.230439               127.0                    Yes   \n",
       "47676                 23.539433               201.0                     No   \n",
       "29219                 27.949603               214.0                    Yes   \n",
       "\n",
       "        Total_EMI_per_month  Amount_invested_monthly  \\\n",
       "ID                                                     \n",
       "84094            246.378645                99.939577   \n",
       "46702             24.986447                45.523998   \n",
       "147514             0.000000                22.006889   \n",
       "16675             55.653369                56.550721   \n",
       "84080            277.610885               165.019535   \n",
       "...                     ...                      ...   \n",
       "100440           145.229101                56.871503   \n",
       "97738             64.477076                52.468341   \n",
       "32228             19.785558                14.823454   \n",
       "47676             77.862907               108.987267   \n",
       "29219            263.077208               124.727807   \n",
       "\n",
       "                       Payment_Behaviour  Monthly_Balance  Credit_Score  \n",
       "ID                                                                       \n",
       "84094     Low_spent_Small_value_payments        78.800397          Poor  \n",
       "46702     Low_spent_Small_value_payments       343.581411          Poor  \n",
       "147514   Low_spent_Medium_value_payments       322.170689          Good  \n",
       "16675   High_spent_Medium_value_payments       726.849284      Standard  \n",
       "84080    High_spent_Large_value_payments       742.018547      Standard  \n",
       "...                                  ...              ...           ...  \n",
       "100440  High_spent_Medium_value_payments       490.055738      Standard  \n",
       "97738     Low_spent_Small_value_payments       265.301240          Poor  \n",
       "32228     Low_spent_Small_value_payments       295.742037      Standard  \n",
       "47676     Low_spent_Small_value_payments       251.420052      Standard  \n",
       "29219   High_spent_Medium_value_payments       469.893993          Poor  \n",
       "\n",
       "[70000 rows x 27 columns]"
      ]
     },
     "execution_count": 21,
     "metadata": {},
     "output_type": "execute_result"
    }
   ],
   "source": [
    "train_data"
   ]
  },
  {
   "cell_type": "markdown",
   "metadata": {},
   "source": [
    "## Selecting Features and Encoding"
   ]
  },
  {
   "cell_type": "markdown",
   "metadata": {},
   "source": [
    "In this example, we only consider numerical values but some categorical values might be of help"
   ]
  },
  {
   "cell_type": "code",
   "execution_count": 8,
   "metadata": {},
   "outputs": [],
   "source": [
    "\n",
    "categorical_columns = ['Credit_Mix',\n",
    "                      'Month',\n",
    "                      'Occupation',\n",
    "                      'Payment_Behaviour',\n",
    "                      'Payment_of_Min_Amount',\n",
    "                      'Type_of_Loan',\n",
    "                      'Customer_ID',\n",
    "                      'Name',\n",
    "                      'SSN']\n",
    "\n",
    "\n",
    "numerical_columns = ['Age',\n",
    "                            'Num_Bank_Accounts',\n",
    "                            'Num_Credit_Card',\n",
    "                            'Interest_Rate',\n",
    "                            'Num_of_Loan',\n",
    "                            'Delay_from_due_date',\n",
    "                            'Num_of_Delayed_Payment',\n",
    "                            'Num_Credit_Inquiries',\n",
    "                            'Credit_History_Age',\n",
    "                            'Credit_Utilization_Ratio',\n",
    "                           'Annual_Income',\n",
    "                           'Monthly_Inhand_Salary', \n",
    "                           'Changed_Credit_Limit', \n",
    "                           'Outstanding_Debt', \n",
    "                           'Total_EMI_per_month',\n",
    "                           'Amount_invested_monthly', \n",
    "                           'Monthly_Balance']\n",
    "\n",
    "# Feature to predict\n",
    "label_to_predict = 'Credit_Score'"
   ]
  },
  {
   "cell_type": "code",
   "execution_count": 9,
   "metadata": {},
   "outputs": [],
   "source": [
    "X_train = train_data[numerical_columns]\n",
    "X_test  = test_data[numerical_columns]"
   ]
  },
  {
   "cell_type": "markdown",
   "metadata": {},
   "source": [
    "## Begin Training"
   ]
  },
  {
   "cell_type": "markdown",
   "metadata": {},
   "source": [
    "We start training a simple DecisionTree model, you will need to think about which model to use to outperform this one and which hyperparameters to use"
   ]
  },
  {
   "cell_type": "code",
   "execution_count": 10,
   "metadata": {},
   "outputs": [],
   "source": [
    "from sklearn.model_selection import train_test_split\n",
    "from sklearn.preprocessing import LabelEncoder\n",
    "from sklearn.tree import DecisionTreeClassifier"
   ]
  },
  {
   "cell_type": "code",
   "execution_count": 11,
   "metadata": {},
   "outputs": [],
   "source": [
    "label_encoder = LabelEncoder()\n",
    "y_train = label_encoder.fit_transform(train_data[label_to_predict]).astype(int)"
   ]
  },
  {
   "cell_type": "code",
   "execution_count": 12,
   "metadata": {},
   "outputs": [
    {
     "data": {
      "text/plain": [
       "array([1, 1, 0, ..., 2, 2, 1])"
      ]
     },
     "execution_count": 12,
     "metadata": {},
     "output_type": "execute_result"
    }
   ],
   "source": [
    "y_train"
   ]
  },
  {
   "cell_type": "code",
   "execution_count": 13,
   "metadata": {},
   "outputs": [],
   "source": [
    "X_train, X_val, y_train, y_val = train_test_split(X_train, y_train, test_size=0.2, random_state=42)"
   ]
  },
  {
   "cell_type": "code",
   "execution_count": 14,
   "metadata": {},
   "outputs": [
    {
     "data": {
      "text/html": [
       "<style>#sk-container-id-1 {color: black;background-color: white;}#sk-container-id-1 pre{padding: 0;}#sk-container-id-1 div.sk-toggleable {background-color: white;}#sk-container-id-1 label.sk-toggleable__label {cursor: pointer;display: block;width: 100%;margin-bottom: 0;padding: 0.3em;box-sizing: border-box;text-align: center;}#sk-container-id-1 label.sk-toggleable__label-arrow:before {content: \"▸\";float: left;margin-right: 0.25em;color: #696969;}#sk-container-id-1 label.sk-toggleable__label-arrow:hover:before {color: black;}#sk-container-id-1 div.sk-estimator:hover label.sk-toggleable__label-arrow:before {color: black;}#sk-container-id-1 div.sk-toggleable__content {max-height: 0;max-width: 0;overflow: hidden;text-align: left;background-color: #f0f8ff;}#sk-container-id-1 div.sk-toggleable__content pre {margin: 0.2em;color: black;border-radius: 0.25em;background-color: #f0f8ff;}#sk-container-id-1 input.sk-toggleable__control:checked~div.sk-toggleable__content {max-height: 200px;max-width: 100%;overflow: auto;}#sk-container-id-1 input.sk-toggleable__control:checked~label.sk-toggleable__label-arrow:before {content: \"▾\";}#sk-container-id-1 div.sk-estimator input.sk-toggleable__control:checked~label.sk-toggleable__label {background-color: #d4ebff;}#sk-container-id-1 div.sk-label input.sk-toggleable__control:checked~label.sk-toggleable__label {background-color: #d4ebff;}#sk-container-id-1 input.sk-hidden--visually {border: 0;clip: rect(1px 1px 1px 1px);clip: rect(1px, 1px, 1px, 1px);height: 1px;margin: -1px;overflow: hidden;padding: 0;position: absolute;width: 1px;}#sk-container-id-1 div.sk-estimator {font-family: monospace;background-color: #f0f8ff;border: 1px dotted black;border-radius: 0.25em;box-sizing: border-box;margin-bottom: 0.5em;}#sk-container-id-1 div.sk-estimator:hover {background-color: #d4ebff;}#sk-container-id-1 div.sk-parallel-item::after {content: \"\";width: 100%;border-bottom: 1px solid gray;flex-grow: 1;}#sk-container-id-1 div.sk-label:hover label.sk-toggleable__label {background-color: #d4ebff;}#sk-container-id-1 div.sk-serial::before {content: \"\";position: absolute;border-left: 1px solid gray;box-sizing: border-box;top: 0;bottom: 0;left: 50%;z-index: 0;}#sk-container-id-1 div.sk-serial {display: flex;flex-direction: column;align-items: center;background-color: white;padding-right: 0.2em;padding-left: 0.2em;position: relative;}#sk-container-id-1 div.sk-item {position: relative;z-index: 1;}#sk-container-id-1 div.sk-parallel {display: flex;align-items: stretch;justify-content: center;background-color: white;position: relative;}#sk-container-id-1 div.sk-item::before, #sk-container-id-1 div.sk-parallel-item::before {content: \"\";position: absolute;border-left: 1px solid gray;box-sizing: border-box;top: 0;bottom: 0;left: 50%;z-index: -1;}#sk-container-id-1 div.sk-parallel-item {display: flex;flex-direction: column;z-index: 1;position: relative;background-color: white;}#sk-container-id-1 div.sk-parallel-item:first-child::after {align-self: flex-end;width: 50%;}#sk-container-id-1 div.sk-parallel-item:last-child::after {align-self: flex-start;width: 50%;}#sk-container-id-1 div.sk-parallel-item:only-child::after {width: 0;}#sk-container-id-1 div.sk-dashed-wrapped {border: 1px dashed gray;margin: 0 0.4em 0.5em 0.4em;box-sizing: border-box;padding-bottom: 0.4em;background-color: white;}#sk-container-id-1 div.sk-label label {font-family: monospace;font-weight: bold;display: inline-block;line-height: 1.2em;}#sk-container-id-1 div.sk-label-container {text-align: center;}#sk-container-id-1 div.sk-container {/* jupyter's `normalize.less` sets `[hidden] { display: none; }` but bootstrap.min.css set `[hidden] { display: none !important; }` so we also need the `!important` here to be able to override the default hidden behavior on the sphinx rendered scikit-learn.org. See: https://github.com/scikit-learn/scikit-learn/issues/21755 */display: inline-block !important;position: relative;}#sk-container-id-1 div.sk-text-repr-fallback {display: none;}</style><div id=\"sk-container-id-1\" class=\"sk-top-container\"><div class=\"sk-text-repr-fallback\"><pre>DecisionTreeClassifier()</pre><b>In a Jupyter environment, please rerun this cell to show the HTML representation or trust the notebook. <br />On GitHub, the HTML representation is unable to render, please try loading this page with nbviewer.org.</b></div><div class=\"sk-container\" hidden><div class=\"sk-item\"><div class=\"sk-estimator sk-toggleable\"><input class=\"sk-toggleable__control sk-hidden--visually\" id=\"sk-estimator-id-1\" type=\"checkbox\" checked><label for=\"sk-estimator-id-1\" class=\"sk-toggleable__label sk-toggleable__label-arrow\">DecisionTreeClassifier</label><div class=\"sk-toggleable__content\"><pre>DecisionTreeClassifier()</pre></div></div></div></div></div>"
      ],
      "text/plain": [
       "DecisionTreeClassifier()"
      ]
     },
     "execution_count": 14,
     "metadata": {},
     "output_type": "execute_result"
    }
   ],
   "source": [
    "model = DecisionTreeClassifier()\n",
    "model.fit(X_train, y_train)"
   ]
  },
  {
   "cell_type": "markdown",
   "metadata": {},
   "source": [
    "## Evaluation"
   ]
  },
  {
   "cell_type": "code",
   "execution_count": null,
   "metadata": {},
   "outputs": [],
   "source": []
  },
  {
   "cell_type": "code",
   "execution_count": 15,
   "metadata": {},
   "outputs": [],
   "source": [
    "from sklearn.metrics import accuracy_score"
   ]
  },
  {
   "cell_type": "code",
   "execution_count": 16,
   "metadata": {},
   "outputs": [
    {
     "data": {
      "text/plain": [
       "0.7215"
      ]
     },
     "execution_count": 16,
     "metadata": {},
     "output_type": "execute_result"
    }
   ],
   "source": [
    "y_pred = model.predict(X_val)\n",
    "accuracy_score(y_pred, y_val)"
   ]
  },
  {
   "cell_type": "code",
   "execution_count": 23,
   "metadata": {},
   "outputs": [
    {
     "data": {
      "text/plain": [
       "array([1, 2, 1, ..., 2, 2, 1])"
      ]
     },
     "execution_count": 23,
     "metadata": {},
     "output_type": "execute_result"
    }
   ],
   "source": [
    "y_pred"
   ]
  },
  {
   "cell_type": "code",
   "execution_count": 25,
   "metadata": {},
   "outputs": [
    {
     "data": {
      "text/plain": [
       "(30000, 17)"
      ]
     },
     "execution_count": 25,
     "metadata": {},
     "output_type": "execute_result"
    }
   ],
   "source": [
    "X_test.shape"
   ]
  },
  {
   "cell_type": "markdown",
   "metadata": {},
   "source": [
    "## Generating the Submission"
   ]
  },
  {
   "cell_type": "markdown",
   "metadata": {},
   "source": [
    "Below you will find a function that does the predictions for the test set and generates a submission, this submission is to be uploaded to kaggle to update the leaderboard"
   ]
  },
  {
   "cell_type": "code",
   "execution_count": 17,
   "metadata": {},
   "outputs": [],
   "source": [
    "def generate_submission():\n",
    "    list_of_predictions = model.predict(X_test)\n",
    "    preds = label_encoder.inverse_transform(list_of_predictions)\n",
    "    df = pd.DataFrame({'Credit_Score': preds}, index=X_test.index)\n",
    "    df.to_csv('sandbox_submission_demo.csv')\n",
    "    print(df['Credit_Score'].value_counts())"
   ]
  },
  {
   "cell_type": "code",
   "execution_count": null,
   "metadata": {},
   "outputs": [],
   "source": []
  },
  {
   "cell_type": "code",
   "execution_count": 22,
   "metadata": {},
   "outputs": [
    {
     "name": "stdout",
     "output_type": "stream",
     "text": [
      "Credit_Score\n",
      "Standard    16049\n",
      "Poor         8607\n",
      "Good         5344\n",
      "Name: count, dtype: int64\n"
     ]
    }
   ],
   "source": [
    "generate_submission()"
   ]
  }
 ],
 "metadata": {
  "kernelspec": {
   "display_name": "Python 3.8.5 ('base')",
   "language": "python",
   "name": "python3"
  },
  "language_info": {
   "codemirror_mode": {
    "name": "ipython",
    "version": 3
   },
   "file_extension": ".py",
   "mimetype": "text/x-python",
   "name": "python",
   "nbconvert_exporter": "python",
   "pygments_lexer": "ipython3",
   "version": "3.8.5"
  },
  "vscode": {
   "interpreter": {
    "hash": "fd75362e27048f1ead3b65beb4812b1da3d387150557ce53b099093c32022a5e"
   }
  }
 },
 "nbformat": 4,
 "nbformat_minor": 2
}
